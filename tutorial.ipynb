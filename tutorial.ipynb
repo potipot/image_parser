{
 "cells": [
  {
   "cell_type": "code",
   "execution_count": 1,
   "id": "5d171872",
   "metadata": {},
   "outputs": [],
   "source": [
    "%load_ext autoreload\n",
    "%autoreload 2"
   ]
  },
  {
   "cell_type": "code",
   "execution_count": 2,
   "id": "5e5b316e",
   "metadata": {},
   "outputs": [],
   "source": [
    "from image_parser import *"
   ]
  },
  {
   "cell_type": "code",
   "execution_count": 7,
   "id": "2d420606",
   "metadata": {},
   "outputs": [
    {
     "data": {
      "application/vnd.jupyter.widget-view+json": {
       "model_id": "47b376e06ae745788b8cc9e434947c6a",
       "version_major": 2,
       "version_minor": 0
      },
      "text/plain": [
       "  0%|          | 0/184913920 [00:00<?, ?B/s]"
      ]
     },
     "metadata": {},
     "output_type": "display_data"
    }
   ],
   "source": [
    "download_and_extract('https://nextcloud.toucan.systems/index.php/s/jzRLiBHHbjaHesH/download', './data/cifar10.tgz')"
   ]
  },
  {
   "cell_type": "code",
   "execution_count": 2,
   "id": "aba51bef",
   "metadata": {},
   "outputs": [
    {
     "ename": "NameError",
     "evalue": "name 'download_and_extract' is not defined",
     "output_type": "error",
     "traceback": [
      "\u001b[0;31m---------------------------------------------------------------------------\u001b[0m",
      "\u001b[0;31mNameError\u001b[0m                                 Traceback (most recent call last)",
      "\u001b[0;32m<ipython-input-2-5c5a5e4fced2>\u001b[0m in \u001b[0;36m<module>\u001b[0;34m\u001b[0m\n\u001b[0;32m----> 1\u001b[0;31m \u001b[0mdownload_and_extract\u001b[0m\u001b[0;34m\u001b[0m\u001b[0;34m\u001b[0m\u001b[0m\n\u001b[0m",
      "\u001b[0;31mNameError\u001b[0m: name 'download_and_extract' is not defined"
     ]
    }
   ],
   "source": [
    "download_and_extract"
   ]
  },
  {
   "cell_type": "code",
   "execution_count": 12,
   "id": "c729f923",
   "metadata": {},
   "outputs": [],
   "source": [
    "labels = {v:k for k,v in enumerate(sorted(set(d.values())))}"
   ]
  },
  {
   "cell_type": "code",
   "execution_count": 13,
   "id": "d14c3c21",
   "metadata": {},
   "outputs": [],
   "source": [
    "d = dict()\n",
    "d_id = dict()\n",
    "for file in Path('./data/cifar10').glob('**/*.png'):\n",
    "    filename = file.relative_to('data/cifar10')\n",
    "    label = file.parent.name\n",
    "    d[str(filename)] = label\n",
    "    d_id[str(filename)] = labels[label]"
   ]
  },
  {
   "cell_type": "code",
   "execution_count": 20,
   "id": "5bfd1dfa",
   "metadata": {},
   "outputs": [],
   "source": [
    "import json"
   ]
  },
  {
   "cell_type": "code",
   "execution_count": 21,
   "id": "8cb85553",
   "metadata": {},
   "outputs": [],
   "source": [
    "with open('data/cifar10/label_ids_test.json', 'w') as outfile:\n",
    "    json.dump(dict(labels=labels, files=d_id), outfile, indent=2)"
   ]
  },
  {
   "cell_type": "code",
   "execution_count": 40,
   "id": "08c41245",
   "metadata": {},
   "outputs": [],
   "source": [
    "with open('data/cifar10/label_names.json', 'w') as outfile:\n",
    "    json.dump(dict(files=d), outfile, indent=2)"
   ]
  },
  {
   "cell_type": "code",
   "execution_count": 33,
   "id": "0ae71ae3",
   "metadata": {},
   "outputs": [
    {
     "data": {
      "text/plain": [
       "{'airplane': 0,\n",
       " 'automobile': 1,\n",
       " 'bird': 2,\n",
       " 'cat': 3,\n",
       " 'deer': 4,\n",
       " 'dog': 5,\n",
       " 'frog': 6,\n",
       " 'horse': 7,\n",
       " 'ship': 8,\n",
       " 'truck': 9}"
      ]
     },
     "execution_count": 33,
     "metadata": {},
     "output_type": "execute_result"
    }
   ],
   "source": [
    "labels"
   ]
  },
  {
   "cell_type": "code",
   "execution_count": 15,
   "id": "1b4361ba",
   "metadata": {},
   "outputs": [],
   "source": [
    "with open('tests/data/label_names_test.json') as infile:\n",
    "    data = json.load(infile)"
   ]
  },
  {
   "cell_type": "code",
   "execution_count": 17,
   "id": "2cfe20da",
   "metadata": {},
   "outputs": [],
   "source": [
    "d = data['files']"
   ]
  },
  {
   "cell_type": "code",
   "execution_count": 19,
   "id": "a0e0d480",
   "metadata": {},
   "outputs": [],
   "source": [
    "d_id = {k:labels[v] for k,v in d.items()}"
   ]
  },
  {
   "cell_type": "code",
   "execution_count": 20,
   "id": "7f7c1ddf",
   "metadata": {},
   "outputs": [
    {
     "data": {
      "text/plain": [
       "{'train/cat/1057.png': 3,\n",
       " 'train/truck/1426.png': 9,\n",
       " 'train/truck/0883.png': 9,\n",
       " 'train/truck/1312.png': 9,\n",
       " 'train/airplane/1057.png': 0,\n",
       " 'train/airplane/3824.png': 0,\n",
       " 'train/automobile/1312.png': 1,\n",
       " 'train/frog/1057.png': 6,\n",
       " 'train/bird/2177.png': 2,\n",
       " 'train/horse/1312.png': 7,\n",
       " 'train/dog/1057.png': 5,\n",
       " 'train/dog/3123.png': 5,\n",
       " 'train/ship/3989.png': 8,\n",
       " 'train/ship/1312.png': 8,\n",
       " 'test/cat/0835.png': 3,\n",
       " 'test/cat/0810.png': 3,\n",
       " 'test/cat/0883.png': 3,\n",
       " 'test/cat/0223.png': 3,\n",
       " 'test/truck/0969.png': 9,\n",
       " 'test/airplane/0835.png': 0,\n",
       " 'test/airplane/0810.png': 0,\n",
       " 'test/airplane/0490.png': 0,\n",
       " 'test/deer/0069.png': 4,\n",
       " 'test/deer/0223.png': 4,\n",
       " 'test/automobile/0969.png': 1,\n",
       " 'test/frog/0835.png': 6,\n",
       " 'test/frog/0810.png': 6,\n",
       " 'test/frog/0463.png': 6,\n",
       " 'test/bird/0302.png': 2,\n",
       " 'test/horse/0979.png': 7,\n",
       " 'test/horse/0218.png': 7,\n",
       " 'test/horse/0969.png': 7,\n",
       " 'test/dog/0835.png': 5,\n",
       " 'test/dog/0824.png': 5,\n",
       " 'test/ship/0557.png': 8}"
      ]
     },
     "execution_count": 20,
     "metadata": {},
     "output_type": "execute_result"
    }
   ],
   "source": [
    "d_id"
   ]
  },
  {
   "cell_type": "code",
   "execution_count": 49,
   "id": "49fb7227",
   "metadata": {},
   "outputs": [],
   "source": [
    "import pandas as pd"
   ]
  },
  {
   "cell_type": "code",
   "execution_count": 15,
   "id": "83532c1f",
   "metadata": {},
   "outputs": [
    {
     "data": {
      "text/plain": [
       "PosixPath('test/ship/0969.png')"
      ]
     },
     "execution_count": 15,
     "metadata": {},
     "output_type": "execute_result"
    }
   ],
   "source": [
    "file.relative_to('data/cifar10')"
   ]
  },
  {
   "cell_type": "code",
   "execution_count": 66,
   "id": "bbfd2b82",
   "metadata": {},
   "outputs": [],
   "source": [
    "df = pd.DataFrame.from_dict(data['files'], orient='index')"
   ]
  },
  {
   "cell_type": "code",
   "execution_count": 60,
   "id": "402b9ac5",
   "metadata": {},
   "outputs": [],
   "source": [
    "df.to_csv('labels.csv', index=False)"
   ]
  },
  {
   "cell_type": "code",
   "execution_count": 68,
   "id": "7beeacf5",
   "metadata": {},
   "outputs": [],
   "source": [
    "df.reset_index(inplace=True)\n",
    "df.rename(columns={'index':'filepath', 0:'label'}, inplace=True)"
   ]
  },
  {
   "cell_type": "code",
   "execution_count": 69,
   "id": "75090582",
   "metadata": {
    "scrolled": true
   },
   "outputs": [
    {
     "data": {
      "text/html": [
       "<div>\n",
       "<style scoped>\n",
       "    .dataframe tbody tr th:only-of-type {\n",
       "        vertical-align: middle;\n",
       "    }\n",
       "\n",
       "    .dataframe tbody tr th {\n",
       "        vertical-align: top;\n",
       "    }\n",
       "\n",
       "    .dataframe thead th {\n",
       "        text-align: right;\n",
       "    }\n",
       "</style>\n",
       "<table border=\"1\" class=\"dataframe\">\n",
       "  <thead>\n",
       "    <tr style=\"text-align: right;\">\n",
       "      <th></th>\n",
       "      <th>filepath</th>\n",
       "      <th>label</th>\n",
       "    </tr>\n",
       "  </thead>\n",
       "  <tbody>\n",
       "    <tr>\n",
       "      <th>0</th>\n",
       "      <td>train/cat/1057.png</td>\n",
       "      <td>cat</td>\n",
       "    </tr>\n",
       "    <tr>\n",
       "      <th>1</th>\n",
       "      <td>train/cat/4694.png</td>\n",
       "      <td>cat</td>\n",
       "    </tr>\n",
       "    <tr>\n",
       "      <th>2</th>\n",
       "      <td>train/cat/0835.png</td>\n",
       "      <td>cat</td>\n",
       "    </tr>\n",
       "    <tr>\n",
       "      <th>3</th>\n",
       "      <td>train/cat/2869.png</td>\n",
       "      <td>cat</td>\n",
       "    </tr>\n",
       "    <tr>\n",
       "      <th>4</th>\n",
       "      <td>train/cat/2729.png</td>\n",
       "      <td>cat</td>\n",
       "    </tr>\n",
       "    <tr>\n",
       "      <th>...</th>\n",
       "      <td>...</td>\n",
       "      <td>...</td>\n",
       "    </tr>\n",
       "    <tr>\n",
       "      <th>59995</th>\n",
       "      <td>test/ship/0411.png</td>\n",
       "      <td>ship</td>\n",
       "    </tr>\n",
       "    <tr>\n",
       "      <th>59996</th>\n",
       "      <td>test/ship/0512.png</td>\n",
       "      <td>ship</td>\n",
       "    </tr>\n",
       "    <tr>\n",
       "      <th>59997</th>\n",
       "      <td>test/ship/0524.png</td>\n",
       "      <td>ship</td>\n",
       "    </tr>\n",
       "    <tr>\n",
       "      <th>59998</th>\n",
       "      <td>test/ship/0218.png</td>\n",
       "      <td>ship</td>\n",
       "    </tr>\n",
       "    <tr>\n",
       "      <th>59999</th>\n",
       "      <td>test/ship/0969.png</td>\n",
       "      <td>ship</td>\n",
       "    </tr>\n",
       "  </tbody>\n",
       "</table>\n",
       "<p>60000 rows × 2 columns</p>\n",
       "</div>"
      ],
      "text/plain": [
       "                 filepath label\n",
       "0      train/cat/1057.png   cat\n",
       "1      train/cat/4694.png   cat\n",
       "2      train/cat/0835.png   cat\n",
       "3      train/cat/2869.png   cat\n",
       "4      train/cat/2729.png   cat\n",
       "...                   ...   ...\n",
       "59995  test/ship/0411.png  ship\n",
       "59996  test/ship/0512.png  ship\n",
       "59997  test/ship/0524.png  ship\n",
       "59998  test/ship/0218.png  ship\n",
       "59999  test/ship/0969.png  ship\n",
       "\n",
       "[60000 rows x 2 columns]"
      ]
     },
     "execution_count": 69,
     "metadata": {},
     "output_type": "execute_result"
    }
   ],
   "source": [
    "df"
   ]
  },
  {
   "cell_type": "code",
   "execution_count": 6,
   "id": "4db766fb",
   "metadata": {},
   "outputs": [],
   "source": [
    "converters.to_csv('data/cifar10/label_ids.json', 'labels.csv')"
   ]
  },
  {
   "cell_type": "code",
   "execution_count": null,
   "id": "0cd2c7b2",
   "metadata": {},
   "outputs": [],
   "source": [
    "pd.read_csv()"
   ]
  },
  {
   "cell_type": "code",
   "execution_count": 23,
   "id": "69c85b19",
   "metadata": {},
   "outputs": [],
   "source": [
    "import numpy as np"
   ]
  },
  {
   "cell_type": "code",
   "execution_count": 26,
   "id": "1743b3ce",
   "metadata": {},
   "outputs": [
    {
     "data": {
      "text/plain": [
       "5.0"
      ]
     },
     "execution_count": 26,
     "metadata": {},
     "output_type": "execute_result"
    }
   ],
   "source": [
    "np.eye(5).trace()"
   ]
  },
  {
   "cell_type": "code",
   "execution_count": 31,
   "id": "2a3ec3f6",
   "metadata": {},
   "outputs": [],
   "source": [
    "import random"
   ]
  },
  {
   "cell_type": "code",
   "execution_count": 37,
   "id": "9747e16a",
   "metadata": {},
   "outputs": [],
   "source": [
    "np.random.seed(10)"
   ]
  },
  {
   "cell_type": "code",
   "execution_count": 42,
   "id": "816313d1",
   "metadata": {},
   "outputs": [
    {
     "data": {
      "text/plain": [
       "array([6, 5, 3, 9, 6, 9, 1, 9, 4, 2])"
      ]
     },
     "execution_count": 42,
     "metadata": {},
     "output_type": "execute_result"
    }
   ],
   "source": [
    "np.random.randint(10, size=10)"
   ]
  },
  {
   "cell_type": "code",
   "execution_count": 38,
   "id": "6d05c282",
   "metadata": {},
   "outputs": [
    {
     "data": {
      "text/plain": [
       "array([0.77132064, 0.02075195, 0.63364823, 0.74880388, 0.49850701,\n",
       "       0.22479665, 0.19806286, 0.76053071, 0.16911084, 0.08833981])"
      ]
     },
     "execution_count": 38,
     "metadata": {},
     "output_type": "execute_result"
    }
   ],
   "source": [
    "np.random.rand(10)"
   ]
  },
  {
   "cell_type": "code",
   "execution_count": null,
   "id": "cfd53055",
   "metadata": {},
   "outputs": [],
   "source": []
  }
 ],
 "metadata": {
  "kernelspec": {
   "display_name": "Python 3",
   "language": "python",
   "name": "python3"
  },
  "language_info": {
   "codemirror_mode": {
    "name": "ipython",
    "version": 3
   },
   "file_extension": ".py",
   "mimetype": "text/x-python",
   "name": "python",
   "nbconvert_exporter": "python",
   "pygments_lexer": "ipython3",
   "version": "3.8.10"
  }
 },
 "nbformat": 4,
 "nbformat_minor": 5
}
